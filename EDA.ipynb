{
 "cells": [
  {
   "cell_type": "code",
   "execution_count": 1,
   "metadata": {},
   "outputs": [],
   "source": [
    "#Importar las librerías necesarias\n",
    "import pandas as pd\n",
    "import numpy as np\n",
    "import seaborn as sns\n",
    "import matplotlib.pyplot as plt"
   ]
  },
  {
   "cell_type": "code",
   "execution_count": 2,
   "metadata": {},
   "outputs": [],
   "source": [
    "# Paso 2: Cargar los datos en un dataframe\n",
    "d1 = pd.read_csv(r\"./ratings/1.csv\")\n",
    "d2 = pd.read_csv(r\"./ratings/2.csv\")\n",
    "d3 = pd.read_csv(r\"./ratings/3.csv\")\n",
    "d4 = pd.read_csv(r\"./ratings/4.csv\")\n",
    "d5 = pd.read_csv(r\"./ratings/5.csv\")\n",
    "d6 = pd.read_csv(r\"./ratings/6.csv\")\n",
    "d6 = pd.read_csv(r\"./ratings/7.csv\")\n",
    "d7 = pd.read_csv(r\"./ratings/8.csv\")\n"
   ]
  },
  {
   "cell_type": "code",
   "execution_count": 3,
   "metadata": {},
   "outputs": [],
   "source": [
    "# Concatenación de los datasets\n",
    "ratings = pd.concat([d1, d2, d3, d4, d5, d6, d7], ignore_index=True)"
   ]
  },
  {
   "cell_type": "code",
   "execution_count": 4,
   "metadata": {},
   "outputs": [],
   "source": [
    "#cambiamos el nombre de la columna movieId a id\n",
    "ratings = ratings.rename(columns={'movieId': 'id'})"
   ]
  },
  {
   "cell_type": "code",
   "execution_count": 5,
   "metadata": {},
   "outputs": [],
   "source": [
    "# Cálculo del promedio de las calificaciones por película de la columna rating, agrupadas por la columna id\n",
    "ratings['score'] = ratings.groupby('id')['rating'].transform('mean')"
   ]
  },
  {
   "cell_type": "code",
   "execution_count": 6,
   "metadata": {},
   "outputs": [],
   "source": [
    "df = pd.read_csv(r\"DATOS/PLATAFORMAS.csv\")"
   ]
  },
  {
   "cell_type": "code",
   "execution_count": 7,
   "metadata": {},
   "outputs": [],
   "source": [
    "#UNO EL ARCHIVO CON EL DF FINAL\n",
    "dfUni =  pd.merge(df, ratings, on='id')"
   ]
  },
  {
   "cell_type": "code",
   "execution_count": 8,
   "metadata": {},
   "outputs": [],
   "source": [
    "# Seleccionar las columnas 'userId', 'rating_y', 'id' y 'title'\n",
    "\n",
    "dfUni = dfUni.loc[:, ['userId', 'rating_y', 'id', 'title', 'listed_in', 'score']]"
   ]
  },
  {
   "cell_type": "code",
   "execution_count": 9,
   "metadata": {},
   "outputs": [
    {
     "data": {
      "text/html": [
       "<div>\n",
       "<style scoped>\n",
       "    .dataframe tbody tr th:only-of-type {\n",
       "        vertical-align: middle;\n",
       "    }\n",
       "\n",
       "    .dataframe tbody tr th {\n",
       "        vertical-align: top;\n",
       "    }\n",
       "\n",
       "    .dataframe thead th {\n",
       "        text-align: right;\n",
       "    }\n",
       "</style>\n",
       "<table border=\"1\" class=\"dataframe\">\n",
       "  <thead>\n",
       "    <tr style=\"text-align: right;\">\n",
       "      <th></th>\n",
       "      <th>userId</th>\n",
       "      <th>rating_y</th>\n",
       "      <th>id</th>\n",
       "      <th>title</th>\n",
       "      <th>listed_in</th>\n",
       "      <th>score</th>\n",
       "    </tr>\n",
       "  </thead>\n",
       "  <tbody>\n",
       "    <tr>\n",
       "      <th>0</th>\n",
       "      <td>543</td>\n",
       "      <td>5.0</td>\n",
       "      <td>as1</td>\n",
       "      <td>the grand seduction</td>\n",
       "      <td>comedy, drama</td>\n",
       "      <td>3.47494</td>\n",
       "    </tr>\n",
       "    <tr>\n",
       "      <th>1</th>\n",
       "      <td>595</td>\n",
       "      <td>3.0</td>\n",
       "      <td>as1</td>\n",
       "      <td>the grand seduction</td>\n",
       "      <td>comedy, drama</td>\n",
       "      <td>3.47494</td>\n",
       "    </tr>\n",
       "    <tr>\n",
       "      <th>2</th>\n",
       "      <td>611</td>\n",
       "      <td>3.0</td>\n",
       "      <td>as1</td>\n",
       "      <td>the grand seduction</td>\n",
       "      <td>comedy, drama</td>\n",
       "      <td>3.47494</td>\n",
       "    </tr>\n",
       "    <tr>\n",
       "      <th>3</th>\n",
       "      <td>2523</td>\n",
       "      <td>3.5</td>\n",
       "      <td>as1</td>\n",
       "      <td>the grand seduction</td>\n",
       "      <td>comedy, drama</td>\n",
       "      <td>3.47494</td>\n",
       "    </tr>\n",
       "    <tr>\n",
       "      <th>4</th>\n",
       "      <td>3082</td>\n",
       "      <td>4.0</td>\n",
       "      <td>as1</td>\n",
       "      <td>the grand seduction</td>\n",
       "      <td>comedy, drama</td>\n",
       "      <td>3.47494</td>\n",
       "    </tr>\n",
       "  </tbody>\n",
       "</table>\n",
       "</div>"
      ],
      "text/plain": [
       "   userId  rating_y   id                title      listed_in    score\n",
       "0     543       5.0  as1  the grand seduction  comedy, drama  3.47494\n",
       "1     595       3.0  as1  the grand seduction  comedy, drama  3.47494\n",
       "2     611       3.0  as1  the grand seduction  comedy, drama  3.47494\n",
       "3    2523       3.5  as1  the grand seduction  comedy, drama  3.47494\n",
       "4    3082       4.0  as1  the grand seduction  comedy, drama  3.47494"
      ]
     },
     "execution_count": 9,
     "metadata": {},
     "output_type": "execute_result"
    }
   ],
   "source": [
    "dfUni.head()"
   ]
  },
  {
   "cell_type": "code",
   "execution_count": 10,
   "metadata": {},
   "outputs": [
    {
     "name": "stdout",
     "output_type": "stream",
     "text": [
      "El dataframe tiene 9524289 filas.\n"
     ]
    }
   ],
   "source": [
    "# Utilizando el método shape\n",
    "num_filas = dfUni.shape[0]\n",
    "print(\"El dataframe tiene\", num_filas, \"filas.\")"
   ]
  },
  {
   "cell_type": "code",
   "execution_count": 11,
   "metadata": {},
   "outputs": [],
   "source": [
    "#GUARDAMOS EL ARCHIVO \n",
    "dfUni.to_csv(r'DATOS/RATINGS_PARA_ML.csv')"
   ]
  },
  {
   "cell_type": "code",
   "execution_count": 12,
   "metadata": {},
   "outputs": [],
   "source": [
    "df = pd.read_csv(r\"DATOS/RATINGS_PARA_ML.csv\")"
   ]
  },
  {
   "cell_type": "code",
   "execution_count": 13,
   "metadata": {},
   "outputs": [
    {
     "data": {
      "text/html": [
       "<div>\n",
       "<style scoped>\n",
       "    .dataframe tbody tr th:only-of-type {\n",
       "        vertical-align: middle;\n",
       "    }\n",
       "\n",
       "    .dataframe tbody tr th {\n",
       "        vertical-align: top;\n",
       "    }\n",
       "\n",
       "    .dataframe thead th {\n",
       "        text-align: right;\n",
       "    }\n",
       "</style>\n",
       "<table border=\"1\" class=\"dataframe\">\n",
       "  <thead>\n",
       "    <tr style=\"text-align: right;\">\n",
       "      <th></th>\n",
       "      <th>Unnamed: 0</th>\n",
       "      <th>userId</th>\n",
       "      <th>rating_y</th>\n",
       "      <th>id</th>\n",
       "      <th>title</th>\n",
       "      <th>listed_in</th>\n",
       "      <th>score</th>\n",
       "    </tr>\n",
       "  </thead>\n",
       "  <tbody>\n",
       "    <tr>\n",
       "      <th>0</th>\n",
       "      <td>0</td>\n",
       "      <td>543</td>\n",
       "      <td>5.0</td>\n",
       "      <td>as1</td>\n",
       "      <td>the grand seduction</td>\n",
       "      <td>comedy, drama</td>\n",
       "      <td>3.474940</td>\n",
       "    </tr>\n",
       "    <tr>\n",
       "      <th>1</th>\n",
       "      <td>1</td>\n",
       "      <td>595</td>\n",
       "      <td>3.0</td>\n",
       "      <td>as1</td>\n",
       "      <td>the grand seduction</td>\n",
       "      <td>comedy, drama</td>\n",
       "      <td>3.474940</td>\n",
       "    </tr>\n",
       "    <tr>\n",
       "      <th>2</th>\n",
       "      <td>2</td>\n",
       "      <td>611</td>\n",
       "      <td>3.0</td>\n",
       "      <td>as1</td>\n",
       "      <td>the grand seduction</td>\n",
       "      <td>comedy, drama</td>\n",
       "      <td>3.474940</td>\n",
       "    </tr>\n",
       "    <tr>\n",
       "      <th>3</th>\n",
       "      <td>3</td>\n",
       "      <td>2523</td>\n",
       "      <td>3.5</td>\n",
       "      <td>as1</td>\n",
       "      <td>the grand seduction</td>\n",
       "      <td>comedy, drama</td>\n",
       "      <td>3.474940</td>\n",
       "    </tr>\n",
       "    <tr>\n",
       "      <th>4</th>\n",
       "      <td>4</td>\n",
       "      <td>3082</td>\n",
       "      <td>4.0</td>\n",
       "      <td>as1</td>\n",
       "      <td>the grand seduction</td>\n",
       "      <td>comedy, drama</td>\n",
       "      <td>3.474940</td>\n",
       "    </tr>\n",
       "    <tr>\n",
       "      <th>...</th>\n",
       "      <td>...</td>\n",
       "      <td>...</td>\n",
       "      <td>...</td>\n",
       "      <td>...</td>\n",
       "      <td>...</td>\n",
       "      <td>...</td>\n",
       "      <td>...</td>\n",
       "    </tr>\n",
       "    <tr>\n",
       "      <th>9524284</th>\n",
       "      <td>9524284</td>\n",
       "      <td>122699</td>\n",
       "      <td>4.0</td>\n",
       "      <td>ns8807</td>\n",
       "      <td>zubaan</td>\n",
       "      <td>dramas, international movies, music &amp; musicals</td>\n",
       "      <td>3.563397</td>\n",
       "    </tr>\n",
       "    <tr>\n",
       "      <th>9524285</th>\n",
       "      <td>9524285</td>\n",
       "      <td>122869</td>\n",
       "      <td>4.0</td>\n",
       "      <td>ns8807</td>\n",
       "      <td>zubaan</td>\n",
       "      <td>dramas, international movies, music &amp; musicals</td>\n",
       "      <td>3.563397</td>\n",
       "    </tr>\n",
       "    <tr>\n",
       "      <th>9524286</th>\n",
       "      <td>9524286</td>\n",
       "      <td>123708</td>\n",
       "      <td>3.0</td>\n",
       "      <td>ns8807</td>\n",
       "      <td>zubaan</td>\n",
       "      <td>dramas, international movies, music &amp; musicals</td>\n",
       "      <td>3.563397</td>\n",
       "    </tr>\n",
       "    <tr>\n",
       "      <th>9524287</th>\n",
       "      <td>9524287</td>\n",
       "      <td>123841</td>\n",
       "      <td>4.0</td>\n",
       "      <td>ns8807</td>\n",
       "      <td>zubaan</td>\n",
       "      <td>dramas, international movies, music &amp; musicals</td>\n",
       "      <td>3.563397</td>\n",
       "    </tr>\n",
       "    <tr>\n",
       "      <th>9524288</th>\n",
       "      <td>9524288</td>\n",
       "      <td>124184</td>\n",
       "      <td>3.0</td>\n",
       "      <td>ns8807</td>\n",
       "      <td>zubaan</td>\n",
       "      <td>dramas, international movies, music &amp; musicals</td>\n",
       "      <td>3.563397</td>\n",
       "    </tr>\n",
       "  </tbody>\n",
       "</table>\n",
       "<p>9524289 rows × 7 columns</p>\n",
       "</div>"
      ],
      "text/plain": [
       "         Unnamed: 0  userId  rating_y      id                title  \\\n",
       "0                 0     543       5.0     as1  the grand seduction   \n",
       "1                 1     595       3.0     as1  the grand seduction   \n",
       "2                 2     611       3.0     as1  the grand seduction   \n",
       "3                 3    2523       3.5     as1  the grand seduction   \n",
       "4                 4    3082       4.0     as1  the grand seduction   \n",
       "...             ...     ...       ...     ...                  ...   \n",
       "9524284     9524284  122699       4.0  ns8807               zubaan   \n",
       "9524285     9524285  122869       4.0  ns8807               zubaan   \n",
       "9524286     9524286  123708       3.0  ns8807               zubaan   \n",
       "9524287     9524287  123841       4.0  ns8807               zubaan   \n",
       "9524288     9524288  124184       3.0  ns8807               zubaan   \n",
       "\n",
       "                                              listed_in     score  \n",
       "0                                         comedy, drama  3.474940  \n",
       "1                                         comedy, drama  3.474940  \n",
       "2                                         comedy, drama  3.474940  \n",
       "3                                         comedy, drama  3.474940  \n",
       "4                                         comedy, drama  3.474940  \n",
       "...                                                 ...       ...  \n",
       "9524284  dramas, international movies, music & musicals  3.563397  \n",
       "9524285  dramas, international movies, music & musicals  3.563397  \n",
       "9524286  dramas, international movies, music & musicals  3.563397  \n",
       "9524287  dramas, international movies, music & musicals  3.563397  \n",
       "9524288  dramas, international movies, music & musicals  3.563397  \n",
       "\n",
       "[9524289 rows x 7 columns]"
      ]
     },
     "execution_count": 13,
     "metadata": {},
     "output_type": "execute_result"
    }
   ],
   "source": [
    "df"
   ]
  },
  {
   "cell_type": "code",
   "execution_count": 14,
   "metadata": {},
   "outputs": [
    {
     "name": "stdout",
     "output_type": "stream",
     "text": [
      "El dataframe tiene 9524289 filas.\n"
     ]
    }
   ],
   "source": [
    "# Utilizando el método shape\n",
    "num_filas = df.shape[0]\n",
    "print(\"El dataframe tiene\", num_filas, \"filas.\")"
   ]
  },
  {
   "cell_type": "code",
   "execution_count": 15,
   "metadata": {},
   "outputs": [
    {
     "name": "stdout",
     "output_type": "stream",
     "text": [
      "   Unnamed: 0  userId  rating_y   id                title      listed_in  \\\n",
      "0           0     543       5.0  as1  the grand seduction  comedy, drama   \n",
      "1           1     595       3.0  as1  the grand seduction  comedy, drama   \n",
      "2           2     611       3.0  as1  the grand seduction  comedy, drama   \n",
      "3           3    2523       3.5  as1  the grand seduction  comedy, drama   \n",
      "4           4    3082       4.0  as1  the grand seduction  comedy, drama   \n",
      "\n",
      "     score  \n",
      "0  3.47494  \n",
      "1  3.47494  \n",
      "2  3.47494  \n",
      "3  3.47494  \n",
      "4  3.47494  \n"
     ]
    }
   ],
   "source": [
    "# Paso 3: Observar los primeros registros del dataframe\n",
    "print(df.head())"
   ]
  },
  {
   "cell_type": "code",
   "execution_count": 16,
   "metadata": {},
   "outputs": [
    {
     "name": "stdout",
     "output_type": "stream",
     "text": [
      "Registros: 9524289\n",
      "Columnas: 7\n"
     ]
    }
   ],
   "source": [
    "# Paso 4: Observar la cantidad de registros y columnas del dataframe\n",
    "print('Registros:', df.shape[0])\n",
    "print('Columnas:', df.shape[1])"
   ]
  },
  {
   "cell_type": "code",
   "execution_count": 17,
   "metadata": {},
   "outputs": [
    {
     "name": "stdout",
     "output_type": "stream",
     "text": [
      "<class 'pandas.core.frame.DataFrame'>\n",
      "RangeIndex: 9524289 entries, 0 to 9524288\n",
      "Data columns (total 7 columns):\n",
      " #   Column      Dtype  \n",
      "---  ------      -----  \n",
      " 0   Unnamed: 0  int64  \n",
      " 1   userId      int64  \n",
      " 2   rating_y    float64\n",
      " 3   id          object \n",
      " 4   title       object \n",
      " 5   listed_in   object \n",
      " 6   score       float64\n",
      "dtypes: float64(2), int64(2), object(3)\n",
      "memory usage: 508.7+ MB\n",
      "None\n"
     ]
    }
   ],
   "source": [
    "# Paso 5: Observar el tipo de dato de cada columna\n",
    "print(df.info())"
   ]
  },
  {
   "cell_type": "code",
   "execution_count": 18,
   "metadata": {},
   "outputs": [
    {
     "name": "stdout",
     "output_type": "stream",
     "text": [
      "         Unnamed: 0        userId      rating_y         score\n",
      "count  9.524289e+06  9.524289e+06  9.524289e+06  9.524289e+06\n",
      "mean   4.762144e+06  6.361570e+04  3.531331e+00  3.531331e+00\n",
      "std    2.749426e+06  6.020791e+04  1.059528e+00  5.236547e-02\n",
      "min    0.000000e+00  1.000000e+00  5.000000e-01  3.294964e+00\n",
      "25%    2.381072e+06  2.469600e+04  3.000000e+00  3.496032e+00\n",
      "50%    4.762144e+06  4.902000e+04  3.500000e+00  3.531469e+00\n",
      "75%    7.143216e+06  7.363400e+04  4.000000e+00  3.566748e+00\n",
      "max    9.524288e+06  2.708960e+05  5.000000e+00  3.737562e+00\n"
     ]
    }
   ],
   "source": [
    "# Paso 6: Observar la distribución de los datos numéricos del dataframe\n",
    "print(df.describe())"
   ]
  },
  {
   "cell_type": "code",
   "execution_count": 19,
   "metadata": {},
   "outputs": [
    {
     "name": "stdout",
     "output_type": "stream",
     "text": [
      "drama                                   440150\n",
      "comedy                                  252301\n",
      "documentaries                           238020\n",
      "comedy, drama                           174406\n",
      "drama, suspense                         165432\n",
      "                                         ...  \n",
      "kids' tv, tv comedies, teen tv shows       368\n",
      "comedy, international, sketch comedy       367\n",
      "action-adventure, superhero                367\n",
      "action, anime, science fiction             354\n",
      "animation, young adult audience            348\n",
      "Name: listed_in, Length: 1687, dtype: int64\n"
     ]
    }
   ],
   "source": [
    "# Paso 7: Observar la distribución de los datos categóricos del dataframe\n",
    "print(df['listed_in'].value_counts())"
   ]
  },
  {
   "cell_type": "code",
   "execution_count": 20,
   "metadata": {},
   "outputs": [],
   "source": [
    "df = df.drop(['Unnamed: 0'], axis=1)"
   ]
  },
  {
   "cell_type": "code",
   "execution_count": 21,
   "metadata": {},
   "outputs": [
    {
     "data": {
      "image/png": "[encoded data removed]",
      "text/plain": [
       "<Figure size 640x480 with 1 Axes>"
      ]
     },
     "metadata": {},
     "output_type": "display_data"
    }
   ],
   "source": [
    "# Paso 8: Visualizar la distribución de los datos numéricos del dataframe\n",
    "sns.histplot(df['score'])\n",
    "plt.show()"
   ]
  },
  {
   "cell_type": "code",
   "execution_count": 22,
   "metadata": {},
   "outputs": [
    {
     "name": "stdout",
     "output_type": "stream",
     "text": [
      "userId       0\n",
      "rating_y     0\n",
      "id           0\n",
      "title        0\n",
      "listed_in    0\n",
      "score        0\n",
      "dtype: int64\n"
     ]
    }
   ],
   "source": [
    "# Paso 9: Analisis de nulos\n",
    "\n",
    "print(df.isnull().sum())\n"
   ]
  },
  {
   "cell_type": "code",
   "execution_count": 23,
   "metadata": {},
   "outputs": [
    {
     "name": "stderr",
     "output_type": "stream",
     "text": [
      "C:\\Users\\W10-PC\\AppData\\Local\\Temp\\ipykernel_19304\\1964754224.py:2: FutureWarning: The default value of numeric_only in DataFrame.corr is deprecated. In a future version, it will default to False. Select only valid columns or specify the value of numeric_only to silence this warning.\n",
      "  sns.heatmap(df.corr(), cmap='coolwarm', annot=True)\n"
     ]
    },
    {
     "data": {
      "text/plain": [
       "<Axes: >"
      ]
     },
     "execution_count": 23,
     "metadata": {},
     "output_type": "execute_result"
    },
    {
     "data": {
      "image/png": "[encoded data removed]",
      "text/plain": [
       "<Figure size 640x480 with 2 Axes>"
      ]
     },
     "metadata": {},
     "output_type": "display_data"
    }
   ],
   "source": [
    "# Paso 10: Observar la correlación entre los datos numéricos del dataframe\n",
    "sns.heatmap(df.corr(), cmap='coolwarm', annot=True)"
   ]
  },
  {
   "cell_type": "code",
   "execution_count": 24,
   "metadata": {},
   "outputs": [
    {
     "data": {
      "text/plain": [
       "<Axes: >"
      ]
     },
     "execution_count": 24,
     "metadata": {},
     "output_type": "execute_result"
    },
    {
     "data": {
      "image/png": "[encoded data removed]",
      "text/plain": [
       "<Figure size 640x480 with 1 Axes>"
      ]
     },
     "metadata": {},
     "output_type": "display_data"
    }
   ],
   "source": [
    "# Análisis de valores atípicos\n",
    "sns.boxplot(df['score'])"
   ]
  },
  {
   "cell_type": "code",
   "execution_count": 25,
   "metadata": {},
   "outputs": [],
   "source": [
    "df.to_csv(r'DATOS/RATINGS_PARA_ML.csv')"
   ]
  }
 ],
 "metadata": {
  "kernelspec": {
   "display_name": "Python 3",
   "language": "python",
   "name": "python3"
  },
  "language_info": {
   "codemirror_mode": {
    "name": "ipython",
    "version": 3
   },
   "file_extension": ".py",
   "mimetype": "text/x-python",
   "name": "python",
   "nbconvert_exporter": "python",
   "pygments_lexer": "ipython3",
   "version": "3.11.2"
  },
  "orig_nbformat": 4,
  "vscode": {
   "interpreter": {
    "hash": "0ab2519a6f6331a01e1772bdf174c7cfde623a57d983e95420f41f63677e12f0"
   }
  }
 },
 "nbformat": 4,
 "nbformat_minor": 2
}
