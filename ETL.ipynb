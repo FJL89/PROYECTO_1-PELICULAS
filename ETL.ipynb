{
 "cells": [
  {
   "cell_type": "code",
   "execution_count": 1,
   "metadata": {},
   "outputs": [],
   "source": [
    "#IMPORTAMOS LIBRERIAS\n",
    "import pandas as pd\n",
    "import numpy as np"
   ]
  },
  {
   "attachments": {},
   "cell_type": "markdown",
   "metadata": {},
   "source": [
    "IMPORTAMOS LOSD DS DE CADA PLATAFORMA, MOSTRAMOS LAS PRIMERAS FILAS DE 1 DE ELLOS, Y CREAMOS UNA LISTA CON LOS 4 DATASETS PARA TRANSFORMARLOS AL MISMO TIEMPO DE ACUERDO CON LAS CONSIGNAS"
   ]
  },
  {
   "cell_type": "code",
   "execution_count": 2,
   "metadata": {},
   "outputs": [],
   "source": [
    "#DATOS\n",
    "dfAmazon = pd.read_csv(r\"./DATOS/amazon_prime_titles.csv\")\n",
    "dfDisney = pd.read_csv(r\"./DATOS/disney_plus_titles.csv\")\n",
    "dfHulu = pd.read_csv(r\"./DATOS/hulu_titles.csv\")\n",
    "dfNetflix = pd.read_csv(r\"./DATOS/netflix_titles.csv\")"
   ]
  },
  {
   "attachments": {},
   "cell_type": "markdown",
   "metadata": {},
   "source": [
    "LUEGO EMPEZAMOS CON LA TRANSFORMACION DE LOS DATOS DE ACUERDO A LAS CONSIGNAS MEDIANTE FUNCIONES. LO HAGO CON FUNCIONES PORQUE APLICO SOBRE LA LISTA DE DAFRAMES PARA NO REPETIR CODIGO POR CADA PLATAFORMA"
   ]
  },
  {
   "cell_type": "code",
   "execution_count": 3,
   "metadata": {},
   "outputs": [],
   "source": [
    "'''Generar campo id: Cada id se compondrá de la primera letra del nombre de la plataforma,\n",
    "seguido del show_id ya presente en los datasets.'''\n",
    "\n",
    "# Aplicar la función lambda para agregar la letra  a cada fila en la columna \"show_Id\"\n",
    "dfAmazon['id'] = 'a' + dfAmazon['show_id'].astype(str)\n",
    "dfDisney['id'] = 'd' + dfAmazon['show_id'].astype(str)\n",
    "dfHulu['id'] = 'h' + dfAmazon['show_id'].astype(str)\n",
    "dfNetflix['id'] = 'n' + dfAmazon['show_id'].astype(str)\n"
   ]
  },
  {
   "cell_type": "code",
   "execution_count": 4,
   "metadata": {},
   "outputs": [],
   "source": [
    "'''Los valores nulos del campo rating reemplazaránse por el string “ G”\n",
    "(corresponde al rating de madurez: “general para todos los públicos\"\n",
    "utilizando fillna'''\n",
    "\n",
    "dfAmazon['rating'] = dfAmazon['rating'].fillna('G')\n",
    "dfDisney['rating'] = dfDisney['rating'].fillna('G')\n",
    "dfHulu['rating'] = dfHulu['rating'].fillna('G')\n",
    "dfNetflix['rating'] = dfNetflix['rating'].fillna('G')"
   ]
  },
  {
   "cell_type": "code",
   "execution_count": 5,
   "metadata": {},
   "outputs": [],
   "source": [
    "'''De haber fechas, debe tener el formatoAAAA-mm-dd'''\n",
    "\n",
    "# Eliminar los espacios en blanco de la columna \"date_added\"\n",
    "dfAmazon['date_added'] = dfAmazon['date_added'].str.strip()\n",
    "\n",
    "# Convertir la columna \"date_added\" a datetime y formatearla\n",
    "dfAmazon['date_added'] = pd.to_datetime(dfAmazon['date_added']).dt.strftime('%Y-%m-%d')\n",
    "\n",
    "# Eliminar los espacios en blanco de la columna \"date_added\"\n",
    "dfDisney['date_added'] = dfDisney['date_added'].str.strip()\n",
    "\n",
    "# Convertir la columna \"date_added\" a datetime y formatearla\n",
    "dfDisney['date_added'] = pd.to_datetime(dfDisney['date_added']).dt.strftime('%Y-%m-%d')\n",
    "\n",
    "# Eliminar los espacios en blanco de la columna \"date_added\"\n",
    "dfHulu['date_added'] = dfHulu['date_added'].str.strip()\n",
    "\n",
    "# Convertir la columna \"date_added\" a datetime y formatearla\n",
    "dfHulu['date_added'] = pd.to_datetime(dfHulu['date_added']).dt.strftime('%Y-%m-%d')\n",
    "\n",
    "# Eliminar los espacios en blanco de la columna \"date_added\"\n",
    "dfNetflix['date_added'] = dfNetflix['date_added'].str.strip()\n",
    "\n",
    "# Convertir la columna \"date_added\" a datetime y formatearla\n",
    "dfNetflix['date_added'] = pd.to_datetime(dfNetflix['date_added']).dt.strftime('%Y-%m-%d')"
   ]
  },
  {
   "attachments": {},
   "cell_type": "markdown",
   "metadata": {},
   "source": [
    "AGREGAMOS UNA COLUMNA CON EL NOMBRE DE LAS PLATAFORMAS, YA QUE VA A SER NECESARIA CUANDO SE DESARROLLEN LAS CONSULTAS"
   ]
  },
  {
   "cell_type": "code",
   "execution_count": 6,
   "metadata": {},
   "outputs": [],
   "source": [
    "dfAmazon['platform'] = 'amazon'\n",
    "dfDisney['platform'] = 'disney'\n",
    "dfHulu['platform'] = 'hulu'\n",
    "dfNetflix['platform'] = 'netflix'"
   ]
  },
  {
   "attachments": {},
   "cell_type": "markdown",
   "metadata": {},
   "source": [
    "LO GUARDAMOS COMO UN SOLO DF PARA PODER IR VIENDO LOS RESULTADO A MEDIDA QUE LE APLICAMOS LAS FUNCIONES DE TRANSFORMACION QUE NO SE PUEDEN APLICAR A LISTAS"
   ]
  },
  {
   "cell_type": "code",
   "execution_count": 7,
   "metadata": {},
   "outputs": [],
   "source": [
    "dfFinal = pd.concat([dfAmazon, dfDisney, dfHulu, dfNetflix], ignore_index=True)\n",
    "dfFinal.to_csv(r'DATOS/PLATAFORMAS.csv')"
   ]
  },
  {
   "cell_type": "code",
   "execution_count": 8,
   "metadata": {},
   "outputs": [],
   "source": [
    "#LO CARGAMOS PARA PODER TRABAJARLO\n",
    "dfFinal = pd.read_csv(r'DATOS/PLATAFORMAS.csv')"
   ]
  },
  {
   "cell_type": "code",
   "execution_count": 9,
   "metadata": {},
   "outputs": [],
   "source": [
    "'''El campo duracion debe convertirse en dos campos: duration_inty duration_type. \n",
    "El primero será un entero y el segundo una cadena indicando la unidad de medición \n",
    "de duración: min (minutos) o temporada (temporadas)'''\n",
    "\n",
    "dfFinal[['duration_int', 'duration_type']] = dfFinal['duration'].str.split(' ', expand=True)"
   ]
  },
  {
   "cell_type": "code",
   "execution_count": 10,
   "metadata": {},
   "outputs": [],
   "source": [
    "#REEMPLAZAMOS LOS VALORES NULOS DE LA COLUMNA DURATION_INT POR CEROS PARA PODER CONVERTIR EL DATO A ENTERO\n",
    "dfFinal['duration_int'] = dfFinal['duration_int'].fillna(0)\n"
   ]
  },
  {
   "cell_type": "code",
   "execution_count": 11,
   "metadata": {},
   "outputs": [],
   "source": [
    "# Convertir la columna 'duration_int' a tipo int\n",
    "dfFinal['duration_int'] = dfFinal['duration_int'].astype(int)\n"
   ]
  },
  {
   "cell_type": "code",
   "execution_count": 12,
   "metadata": {},
   "outputs": [],
   "source": [
    "# Reemplazar los valores \"seasons\" por \"season\" en la columna \"duration_type\"\n",
    "dfFinal['duration_type'] = dfFinal['duration_type'].replace('seasons', 'season')"
   ]
  },
  {
   "cell_type": "code",
   "execution_count": 13,
   "metadata": {},
   "outputs": [],
   "source": [
    "'''Los campos de texto deben estar en minúsculas , sin excepciones'''\n",
    "\n",
    "dfFinal = dfFinal.applymap(lambda s: s.lower() if type(s) == str else s)\n"
   ]
  },
  {
   "cell_type": "code",
   "execution_count": 14,
   "metadata": {},
   "outputs": [],
   "source": [
    "# Eliminar la columna \"Unnamed: 0\"\n",
    "dfFinal = dfFinal.drop('Unnamed: 0', axis=1)"
   ]
  },
  {
   "cell_type": "code",
   "execution_count": 15,
   "metadata": {},
   "outputs": [],
   "source": [
    "#GUARDAMOS EL ARCHIVO \n",
    "dfFinal.to_csv(r'DATOS/PLATAFORMAS.csv')"
   ]
  },
  {
   "cell_type": "code",
   "execution_count": 17,
   "metadata": {},
   "outputs": [],
   "source": [
    "dfFinal = pd.read_csv(r\"DATOS/PLATAFORMAS.csv\")\n"
   ]
  },
  {
   "attachments": {},
   "cell_type": "markdown",
   "metadata": {},
   "source": [
    "EMPEZAMOS A TRABAJAR CON LOS ARCHIVOS DE RATINGS\n",
    "ABRIMOS LOS ARCHIVOS DE DATOS DE LOS SCORES DE PELICULAS"
   ]
  },
  {
   "cell_type": "code",
   "execution_count": 18,
   "metadata": {},
   "outputs": [],
   "source": [
    "d1 = pd.read_csv(r\"./ratings/1.csv\")\n",
    "d2 = pd.read_csv(r\"./ratings/2.csv\")\n",
    "d3 = pd.read_csv(r\"./ratings/3.csv\")\n",
    "d4 = pd.read_csv(r\"./ratings/4.csv\")\n",
    "d5 = pd.read_csv(r\"./ratings/5.csv\")\n",
    "d6 = pd.read_csv(r\"./ratings/6.csv\")\n",
    "d6 = pd.read_csv(r\"./ratings/7.csv\")\n",
    "d7 = pd.read_csv(r\"./ratings/8.csv\")"
   ]
  },
  {
   "cell_type": "code",
   "execution_count": 19,
   "metadata": {},
   "outputs": [],
   "source": [
    "# Concatenación de los datasets\n",
    "ratings = pd.concat([d1, d2, d3, d4, d5, d6, d7], ignore_index=True)\n",
    "\n",
    "# Guardar el dataset concatenado en un archivo CSV\n",
    "ratings.to_csv('DATOS/RATINGS.csv', index=False)"
   ]
  },
  {
   "cell_type": "code",
   "execution_count": 20,
   "metadata": {},
   "outputs": [],
   "source": [
    "ratings = pd.read_csv('DATOS/RATINGS.csv')"
   ]
  },
  {
   "cell_type": "code",
   "execution_count": 21,
   "metadata": {},
   "outputs": [],
   "source": [
    "#cambiamos el nombre de la columna movieId a id\n",
    "ratings = ratings.rename(columns={'movieId': 'id'})"
   ]
  },
  {
   "cell_type": "code",
   "execution_count": 22,
   "metadata": {},
   "outputs": [],
   "source": [
    "# Cálculo del promedio de las calificaciones por película de la columna rating, agrupadas por la columna id\n",
    "ratings['score'] = ratings.groupby('id')['rating'].transform('mean')\n"
   ]
  },
  {
   "cell_type": "code",
   "execution_count": 23,
   "metadata": {},
   "outputs": [],
   "source": [
    "#BORRO FILAS DUPLICADAS YA QUE TENGO LOS PROMEDIOS\n",
    "ratings = ratings.drop_duplicates(subset=['id'])"
   ]
  },
  {
   "attachments": {},
   "cell_type": "markdown",
   "metadata": {},
   "source": [
    "CONTROLAMOS EL NUMERO DE FILAS PARA HACER LA UNION DE LOS DOS DATASETS"
   ]
  },
  {
   "cell_type": "code",
   "execution_count": 24,
   "metadata": {},
   "outputs": [
    {
     "name": "stdout",
     "output_type": "stream",
     "text": [
      "El dataset de ratings tiene 22998 filas.\n",
      "El dataset de plataformas tiene 22998 filas.\n"
     ]
    }
   ],
   "source": [
    "# Obtención del número de filas\n",
    "num_rows = ratings.shape[0]\n",
    "\n",
    "# Impresión del número de filas\n",
    "print(\"El dataset de ratings tiene\", num_rows, \"filas.\")\n",
    "\n",
    "# Obtención del número de filas\n",
    "num_rows1 = dfFinal.shape[0]\n",
    "\n",
    "# Impresión del número de filas\n",
    "print(\"El dataset de plataformas tiene\", num_rows1, \"filas.\")"
   ]
  },
  {
   "cell_type": "code",
   "execution_count": 25,
   "metadata": {},
   "outputs": [],
   "source": [
    "ratings.to_csv('DATOS/ratings.csv', index=False)"
   ]
  },
  {
   "cell_type": "code",
   "execution_count": 26,
   "metadata": {},
   "outputs": [],
   "source": [
    "ratings = pd.read_csv('DATOS/ratings.csv')"
   ]
  },
  {
   "cell_type": "code",
   "execution_count": 27,
   "metadata": {},
   "outputs": [],
   "source": [
    "#UNO EL ARCHIVO CON EL DF FINAL\n",
    "dfUnido1 =  pd.merge(dfFinal, ratings, on='id')"
   ]
  },
  {
   "cell_type": "code",
   "execution_count": 28,
   "metadata": {},
   "outputs": [
    {
     "data": {
      "text/html": [
       "<div>\n",
       "<style scoped>\n",
       "    .dataframe tbody tr th:only-of-type {\n",
       "        vertical-align: middle;\n",
       "    }\n",
       "\n",
       "    .dataframe tbody tr th {\n",
       "        vertical-align: top;\n",
       "    }\n",
       "\n",
       "    .dataframe thead th {\n",
       "        text-align: right;\n",
       "    }\n",
       "</style>\n",
       "<table border=\"1\" class=\"dataframe\">\n",
       "  <thead>\n",
       "    <tr style=\"text-align: right;\">\n",
       "      <th></th>\n",
       "      <th>Unnamed: 0</th>\n",
       "      <th>show_id</th>\n",
       "      <th>type</th>\n",
       "      <th>title</th>\n",
       "      <th>director</th>\n",
       "      <th>cast</th>\n",
       "      <th>country</th>\n",
       "      <th>date_added</th>\n",
       "      <th>release_year</th>\n",
       "      <th>rating_x</th>\n",
       "      <th>...</th>\n",
       "      <th>listed_in</th>\n",
       "      <th>description</th>\n",
       "      <th>id</th>\n",
       "      <th>platform</th>\n",
       "      <th>duration_int</th>\n",
       "      <th>duration_type</th>\n",
       "      <th>userId</th>\n",
       "      <th>rating_y</th>\n",
       "      <th>timestamp</th>\n",
       "      <th>score</th>\n",
       "    </tr>\n",
       "  </thead>\n",
       "  <tbody>\n",
       "    <tr>\n",
       "      <th>0</th>\n",
       "      <td>0</td>\n",
       "      <td>s1</td>\n",
       "      <td>movie</td>\n",
       "      <td>the grand seduction</td>\n",
       "      <td>don mckellar</td>\n",
       "      <td>brendan gleeson, taylor kitsch, gordon pinsent</td>\n",
       "      <td>canada</td>\n",
       "      <td>2021-03-30</td>\n",
       "      <td>2014</td>\n",
       "      <td>g</td>\n",
       "      <td>...</td>\n",
       "      <td>comedy, drama</td>\n",
       "      <td>a small fishing village must procure a local d...</td>\n",
       "      <td>as1</td>\n",
       "      <td>amazon</td>\n",
       "      <td>113</td>\n",
       "      <td>min</td>\n",
       "      <td>543</td>\n",
       "      <td>5.0</td>\n",
       "      <td>1059596582</td>\n",
       "      <td>3.474940</td>\n",
       "    </tr>\n",
       "    <tr>\n",
       "      <th>1</th>\n",
       "      <td>1</td>\n",
       "      <td>s2</td>\n",
       "      <td>movie</td>\n",
       "      <td>take care good night</td>\n",
       "      <td>girish joshi</td>\n",
       "      <td>mahesh manjrekar, abhay mahajan, sachin khedekar</td>\n",
       "      <td>india</td>\n",
       "      <td>2021-03-30</td>\n",
       "      <td>2018</td>\n",
       "      <td>13+</td>\n",
       "      <td>...</td>\n",
       "      <td>drama, international</td>\n",
       "      <td>a metro family decides to fight a cyber crimin...</td>\n",
       "      <td>as2</td>\n",
       "      <td>amazon</td>\n",
       "      <td>110</td>\n",
       "      <td>min</td>\n",
       "      <td>321</td>\n",
       "      <td>3.0</td>\n",
       "      <td>1181451581</td>\n",
       "      <td>3.570913</td>\n",
       "    </tr>\n",
       "    <tr>\n",
       "      <th>2</th>\n",
       "      <td>2</td>\n",
       "      <td>s3</td>\n",
       "      <td>movie</td>\n",
       "      <td>secrets of deception</td>\n",
       "      <td>josh webber</td>\n",
       "      <td>tom sizemore, lorenzo lamas, robert lasardo, r...</td>\n",
       "      <td>united states</td>\n",
       "      <td>2021-03-30</td>\n",
       "      <td>2017</td>\n",
       "      <td>g</td>\n",
       "      <td>...</td>\n",
       "      <td>action, drama, suspense</td>\n",
       "      <td>after a man discovers his wife is cheating on ...</td>\n",
       "      <td>as3</td>\n",
       "      <td>amazon</td>\n",
       "      <td>74</td>\n",
       "      <td>min</td>\n",
       "      <td>582</td>\n",
       "      <td>5.0</td>\n",
       "      <td>1316843370</td>\n",
       "      <td>3.535230</td>\n",
       "    </tr>\n",
       "    <tr>\n",
       "      <th>3</th>\n",
       "      <td>3</td>\n",
       "      <td>s4</td>\n",
       "      <td>movie</td>\n",
       "      <td>pink: staying true</td>\n",
       "      <td>sonia anderson</td>\n",
       "      <td>interviews with: pink, adele, beyoncé, britney...</td>\n",
       "      <td>united states</td>\n",
       "      <td>2021-03-30</td>\n",
       "      <td>2014</td>\n",
       "      <td>g</td>\n",
       "      <td>...</td>\n",
       "      <td>documentary</td>\n",
       "      <td>pink breaks the mold once again, bringing her ...</td>\n",
       "      <td>as4</td>\n",
       "      <td>amazon</td>\n",
       "      <td>69</td>\n",
       "      <td>min</td>\n",
       "      <td>151</td>\n",
       "      <td>1.5</td>\n",
       "      <td>1081454081</td>\n",
       "      <td>3.521792</td>\n",
       "    </tr>\n",
       "    <tr>\n",
       "      <th>4</th>\n",
       "      <td>4</td>\n",
       "      <td>s5</td>\n",
       "      <td>movie</td>\n",
       "      <td>monster maker</td>\n",
       "      <td>giles foster</td>\n",
       "      <td>harry dean stanton, kieran o'brien, george cos...</td>\n",
       "      <td>united kingdom</td>\n",
       "      <td>2021-03-30</td>\n",
       "      <td>1989</td>\n",
       "      <td>g</td>\n",
       "      <td>...</td>\n",
       "      <td>drama, fantasy</td>\n",
       "      <td>teenage matt banting wants to work with a famo...</td>\n",
       "      <td>as5</td>\n",
       "      <td>amazon</td>\n",
       "      <td>45</td>\n",
       "      <td>min</td>\n",
       "      <td>24</td>\n",
       "      <td>5.0</td>\n",
       "      <td>979972491</td>\n",
       "      <td>3.485849</td>\n",
       "    </tr>\n",
       "  </tbody>\n",
       "</table>\n",
       "<p>5 rows × 21 columns</p>\n",
       "</div>"
      ],
      "text/plain": [
       "   Unnamed: 0 show_id   type                 title        director  \\\n",
       "0           0      s1  movie   the grand seduction    don mckellar   \n",
       "1           1      s2  movie  take care good night    girish joshi   \n",
       "2           2      s3  movie  secrets of deception     josh webber   \n",
       "3           3      s4  movie    pink: staying true  sonia anderson   \n",
       "4           4      s5  movie         monster maker    giles foster   \n",
       "\n",
       "                                                cast         country  \\\n",
       "0     brendan gleeson, taylor kitsch, gordon pinsent          canada   \n",
       "1   mahesh manjrekar, abhay mahajan, sachin khedekar           india   \n",
       "2  tom sizemore, lorenzo lamas, robert lasardo, r...   united states   \n",
       "3  interviews with: pink, adele, beyoncé, britney...   united states   \n",
       "4  harry dean stanton, kieran o'brien, george cos...  united kingdom   \n",
       "\n",
       "   date_added  release_year rating_x  ...                listed_in  \\\n",
       "0  2021-03-30          2014        g  ...            comedy, drama   \n",
       "1  2021-03-30          2018      13+  ...     drama, international   \n",
       "2  2021-03-30          2017        g  ...  action, drama, suspense   \n",
       "3  2021-03-30          2014        g  ...              documentary   \n",
       "4  2021-03-30          1989        g  ...           drama, fantasy   \n",
       "\n",
       "                                         description   id platform  \\\n",
       "0  a small fishing village must procure a local d...  as1   amazon   \n",
       "1  a metro family decides to fight a cyber crimin...  as2   amazon   \n",
       "2  after a man discovers his wife is cheating on ...  as3   amazon   \n",
       "3  pink breaks the mold once again, bringing her ...  as4   amazon   \n",
       "4  teenage matt banting wants to work with a famo...  as5   amazon   \n",
       "\n",
       "  duration_int  duration_type userId  rating_y   timestamp     score  \n",
       "0          113            min    543       5.0  1059596582  3.474940  \n",
       "1          110            min    321       3.0  1181451581  3.570913  \n",
       "2           74            min    582       5.0  1316843370  3.535230  \n",
       "3           69            min    151       1.5  1081454081  3.521792  \n",
       "4           45            min     24       5.0   979972491  3.485849  \n",
       "\n",
       "[5 rows x 21 columns]"
      ]
     },
     "execution_count": 28,
     "metadata": {},
     "output_type": "execute_result"
    }
   ],
   "source": [
    "dfUnido1.head()"
   ]
  },
  {
   "cell_type": "code",
   "execution_count": 29,
   "metadata": {},
   "outputs": [],
   "source": [
    "#eliminamos columnas\n",
    "dfUnido1 = dfUnido1.drop(['Unnamed: 0', 'rating_y'], axis=1)"
   ]
  },
  {
   "cell_type": "code",
   "execution_count": 30,
   "metadata": {},
   "outputs": [],
   "source": [
    "#GUARDAMOS EL ARCHIVO QUE VAMOS A USAR PARA LAS CONSULTAS\n",
    "dfUnido1.to_csv(r'DATOS/PLATAFORMAS RATINGS.csv')"
   ]
  },
  {
   "cell_type": "code",
   "execution_count": null,
   "metadata": {},
   "outputs": [],
   "source": []
  },
  {
   "cell_type": "code",
   "execution_count": null,
   "metadata": {},
   "outputs": [],
   "source": []
  }
 ],
 "metadata": {
  "kernelspec": {
   "display_name": "Python 3",
   "language": "python",
   "name": "python3"
  },
  "language_info": {
   "codemirror_mode": {
    "name": "ipython",
    "version": 3
   },
   "file_extension": ".py",
   "mimetype": "text/x-python",
   "name": "python",
   "nbconvert_exporter": "python",
   "pygments_lexer": "ipython3",
   "version": "3.11.2"
  },
  "orig_nbformat": 4,
  "vscode": {
   "interpreter": {
    "hash": "0ab2519a6f6331a01e1772bdf174c7cfde623a57d983e95420f41f63677e12f0"
   }
  }
 },
 "nbformat": 4,
 "nbformat_minor": 2
}
