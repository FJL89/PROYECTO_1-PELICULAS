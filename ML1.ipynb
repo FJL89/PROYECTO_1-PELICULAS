{
 "cells": [
  {
   "cell_type": "code",
   "execution_count": 47,
   "metadata": {},
   "outputs": [],
   "source": [
    "from surprise import Dataset, Reader\n",
    "import pandas as pd\n",
    "from surprise import Trainset\n",
    "from surprise import SVD\n",
    "from surprise.model_selection import cross_validate\n",
    "import gradio as gr"
   ]
  },
  {
   "cell_type": "code",
   "execution_count": 48,
   "metadata": {},
   "outputs": [],
   "source": [
    "# cargamos los datos en un dataframe de pandas\n",
    "df = pd.read_csv('./DATOS/RATINGs_PARA_ML.csv')"
   ]
  },
  {
   "cell_type": "code",
   "execution_count": 49,
   "metadata": {},
   "outputs": [],
   "source": [
    "\n",
    "reader = Reader(rating_scale=(1, 5))\n",
    "data = Dataset.load_from_df(df[['userId', 'title', 'rating_y']][:800000], reader)\n"
   ]
  },
  {
   "cell_type": "code",
   "execution_count": 50,
   "metadata": {},
   "outputs": [],
   "source": [
    "\n",
    "trainset = data.build_full_trainset()\n"
   ]
  },
  {
   "cell_type": "code",
   "execution_count": 51,
   "metadata": {},
   "outputs": [
    {
     "data": {
      "text/plain": [
       "<surprise.prediction_algorithms.matrix_factorization.SVD at 0x2864a9fbdd0>"
      ]
     },
     "execution_count": 51,
     "metadata": {},
     "output_type": "execute_result"
    }
   ],
   "source": [
    "#utilizar el algoritmo de recomendación SVD\n",
    "\n",
    "model = SVD()\n",
    "model.fit(trainset)\n"
   ]
  },
  {
   "cell_type": "code",
   "execution_count": 52,
   "metadata": {},
   "outputs": [
    {
     "name": "stdout",
     "output_type": "stream",
     "text": [
      "Evaluating RMSE, MAE of algorithm SVD on 5 split(s).\n",
      "\n",
      "                  Fold 1  Fold 2  Fold 3  Fold 4  Fold 5  Mean    Std     \n",
      "RMSE (testset)    1.0108  1.0125  1.0080  1.0139  1.0134  1.0117  0.0021  \n",
      "MAE (testset)     0.7920  0.7931  0.7899  0.7936  0.7933  0.7924  0.0013  \n",
      "Fit time          6.43    6.49    6.46    6.49    6.47    6.47    0.02    \n",
      "Test time         1.07    1.42    1.06    1.39    1.02    1.19    0.17    \n"
     ]
    }
   ],
   "source": [
    "#Para evaluar el rendimiento del modelo, se puede utilizar la función cross_validatede Surprise:\n",
    "results = cross_validate(model, data, measures=['RMSE', 'MAE'], cv=5, verbose=True)"
   ]
  },
  {
   "cell_type": "code",
   "execution_count": 53,
   "metadata": {},
   "outputs": [
    {
     "name": "stdout",
     "output_type": "stream",
     "text": [
      "RMSE: 1.0117435466758944\n",
      "MAE: 0.7923879629086148\n"
     ]
    }
   ],
   "source": [
    "print('RMSE:', results['test_rmse'].mean())\n",
    "print('MAE:', results['test_mae'].mean())"
   ]
  },
  {
   "cell_type": "code",
   "execution_count": 54,
   "metadata": {},
   "outputs": [
    {
     "name": "stdout",
     "output_type": "stream",
     "text": [
      "user: 582        item: monster make r_ui = None   est = 3.64   {'was_impossible': False}\n",
      "Recomendar\n"
     ]
    }
   ],
   "source": [
    "'''se puede utilizar el método predictpara obtener una predicción del puntaje \n",
    "que un usuario le daría a una película.\n",
    "Para determinar si se debe recomendar o no la película a un usuario en particular,\n",
    " se puede establecer un umbral y recomendar películas con una predicción de puntaje por \n",
    " encima de ese umbral.\n",
    "'''\n",
    "userId = 582\n",
    "title = 'monster make'\n",
    "\n",
    "predicted_rating = model.predict(userId, title)\n",
    "print(predicted_rating)\n",
    "threshold = 3.5\n",
    "\n",
    "if predicted_rating.est > threshold:\n",
    "    print('Recomendar')\n",
    "else:\n",
    "    print('No recomendar')"
   ]
  },
  {
   "cell_type": "code",
   "execution_count": 46,
   "metadata": {},
   "outputs": [
    {
     "name": "stdout",
     "output_type": "stream",
     "text": [
      "1\n",
      "Evaluating RMSE of algorithm SVD on 3 split(s).\n",
      "\n",
      "                  Fold 1  Fold 2  Fold 3  Mean    Std     \n",
      "RMSE (testset)    1.0035  1.0059  1.0059  1.0051  0.0011  \n",
      "Fit time          1.73    1.71    1.76    1.73    0.02    \n",
      "Test time         0.86    1.07    0.80    0.91    0.11    \n",
      "2\n",
      "Evaluating RMSE of algorithm SVD on 3 split(s).\n",
      "\n",
      "                  Fold 1  Fold 2  Fold 3  Mean    Std     \n",
      "RMSE (testset)    1.0034  1.0086  1.0017  1.0046  0.0030  \n",
      "Fit time          1.74    1.68    1.76    1.73    0.03    \n",
      "Test time         0.80    0.81    0.78    0.80    0.01    \n",
      "4\n",
      "Evaluating RMSE of algorithm SVD on 3 split(s).\n",
      "\n",
      "                  Fold 1  Fold 2  Fold 3  Mean    Std     \n",
      "RMSE (testset)    1.0044  1.0052  1.0067  1.0054  0.0009  \n",
      "Fit time          1.79    1.71    1.78    1.76    0.04    \n",
      "Test time         0.84    0.80    0.81    0.82    0.02    \n",
      "8\n",
      "Evaluating RMSE of algorithm SVD on 3 split(s).\n",
      "\n",
      "                  Fold 1  Fold 2  Fold 3  Mean    Std     \n",
      "RMSE (testset)    1.0097  1.0063  1.0024  1.0061  0.0030  \n",
      "Fit time          1.83    1.73    1.84    1.80    0.05    \n",
      "Test time         0.81    0.81    0.81    0.81    0.00    \n",
      "16\n",
      "Evaluating RMSE of algorithm SVD on 3 split(s).\n",
      "\n",
      "                  Fold 1  Fold 2  Fold 3  Mean    Std     \n",
      "RMSE (testset)    1.0087  1.0084  1.0072  1.0081  0.0006  \n",
      "Fit time          1.94    1.83    1.91    1.89    0.05    \n",
      "Test time         0.82    0.82    0.81    0.82    0.01    \n",
      "32\n",
      "Evaluating RMSE of algorithm SVD on 3 split(s).\n",
      "\n",
      "                  Fold 1  Fold 2  Fold 3  Mean    Std     \n",
      "RMSE (testset)    1.0138  1.0108  1.0111  1.0119  0.0013  \n",
      "Fit time          2.09    2.02    2.10    2.07    0.04    \n",
      "Test time         0.83    0.82    0.80    0.82    0.01    \n",
      "64\n",
      "Evaluating RMSE of algorithm SVD on 3 split(s).\n",
      "\n",
      "                  Fold 1  Fold 2  Fold 3  Mean    Std     \n",
      "RMSE (testset)    1.0165  1.0164  1.0160  1.0163  0.0002  \n",
      "Fit time          2.45    2.33    2.46    2.41    0.06    \n",
      "Test time         0.82    0.54    0.83    0.73    0.13    \n",
      "128\n",
      "Evaluating RMSE of algorithm SVD on 3 split(s).\n",
      "\n",
      "                  Fold 1  Fold 2  Fold 3  Mean    Std     \n",
      "RMSE (testset)    1.0258  1.0219  1.0277  1.0252  0.0024  \n",
      "Fit time          3.06    2.98    3.02    3.02    0.03    \n",
      "Test time         0.84    0.85    0.84    0.84    0.01    \n"
     ]
    }
   ],
   "source": [
    "from surprise.model_selection import cross_validate\n",
    "import numpy as np\n",
    "\n",
    "rmse_test_means = []\n",
    "factores = [1,2,4,8,16,32,64,128]\n",
    "\n",
    "for factor in factores:\n",
    "    print(factor)\n",
    "    model = SVD(n_factors=factor)\n",
    "    cv = cross_validate(model, data, measures=['RMSE'], cv = 3, verbose=True)\n",
    "    rmse_test_means.append(np.mean(cv['test_rmse']))"
   ]
  },
  {
   "cell_type": "code",
   "execution_count": 55,
   "metadata": {},
   "outputs": [],
   "source": [
    "\n",
    "#GENERAMOS LA FUNCION PARA PONER A PRUEBA EL MODELO\n",
    "\n",
    "def movie_recommendation(userId, title):\n",
    "     \n",
    "    # Obtener la predicción del puntaje para la película dada\n",
    "    predicted_rating = model.predict(userId, title)\n",
    "\n",
    "    # Establecer un umbral y recomendar la película si la predicción del puntaje es mayor que el umbral\n",
    "    threshold = 3.52\n",
    "    if predicted_rating.est > threshold:\n",
    "        return 'Recomendar'\n",
    "    else:\n",
    "        return 'No recomendar'"
   ]
  },
  {
   "cell_type": "code",
   "execution_count": 81,
   "metadata": {},
   "outputs": [
    {
     "name": "stdout",
     "output_type": "stream",
     "text": [
      "Running on local URL:  http://127.0.0.1:7873\n",
      "Running on public URL: https://0c7d2527b6bb2d4201.gradio.live\n",
      "\n",
      "This share link expires in 72 hours. For free permanent hosting and GPU upgrades (NEW!), check out Spaces: https://huggingface.co/spaces\n"
     ]
    },
    {
     "data": {
      "text/html": [
       "<div><iframe src=\"https://0c7d2527b6bb2d4201.gradio.live\" width=\"100%\" height=\"500\" allow=\"autoplay; camera; microphone; clipboard-read; clipboard-write;\" frameborder=\"0\" allowfullscreen></iframe></div>"
      ],
      "text/plain": [
       "<IPython.core.display.HTML object>"
      ]
     },
     "metadata": {},
     "output_type": "display_data"
    },
    {
     "data": {
      "text/plain": []
     },
     "execution_count": 81,
     "metadata": {},
     "output_type": "execute_result"
    }
   ],
   "source": [
    "\n",
    "\n",
    "\n",
    "demo = gr.Interface(\n",
    "    fn=movie_recommendation,\n",
    "    inputs=[\"number\", \"text\"],\n",
    "    outputs=[\"text\"],\n",
    "    )\n",
    "\n",
    "demo.launch(share=True)\n",
    "\n"
   ]
  }
 ],
 "metadata": {
  "kernelspec": {
   "display_name": "Python 3",
   "language": "python",
   "name": "python3"
  },
  "language_info": {
   "codemirror_mode": {
    "name": "ipython",
    "version": 3
   },
   "file_extension": ".py",
   "mimetype": "text/x-python",
   "name": "python",
   "nbconvert_exporter": "python",
   "pygments_lexer": "ipython3",
   "version": "3.11.2"
  },
  "orig_nbformat": 4,
  "vscode": {
   "interpreter": {
    "hash": "0ab2519a6f6331a01e1772bdf174c7cfde623a57d983e95420f41f63677e12f0"
   }
  }
 },
 "nbformat": 4,
 "nbformat_minor": 2
}
